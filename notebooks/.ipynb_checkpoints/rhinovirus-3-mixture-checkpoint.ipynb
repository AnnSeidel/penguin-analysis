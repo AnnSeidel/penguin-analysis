{
 "cells": [
  {
   "cell_type": "code",
   "execution_count": 1,
   "metadata": {},
   "outputs": [],
   "source": [
    "import sys, os\n",
    "from matplotlib import pyplot as plt\n",
    "import matplotlib.ticker as mticker\n",
    "import matplotlib.colors as mcolors\n",
    "from matplotlib.legend import Legend\n",
    "import pandas as pd\n",
    "import numpy as np\n",
    "from operator import itemgetter\n",
    "import seaborn as sns\n",
    "from matplotlib_venn import venn2, venn2_circles\n",
    "from matplotlib_venn import venn3, venn3_circles\n",
    "#from labels import *"
   ]
  },
  {
   "cell_type": "code",
   "execution_count": 3,
   "metadata": {},
   "outputs": [],
   "source": [
    "label_dic={\"penguin\":\"PenguiN\",\n",
    "           \"megahit\":\"Megahit\",\n",
    "           \"metaspades\":\"metaSPAdes\",\n",
    "           \"metaviralspades\":\"metaviralSPAdes\",\n",
    "           \"rnaspades\":\"rnaSPAdes\",\n",
    "           \"rnaviralspades\": \"rnaviralSPAdes\",\n",
    "           \"iva\":\"IVA\",\n",
    "           \"vicuna\": \"VICUNA\",\n",
    "           \"savage\": \"SAVAGE\",\n",
    "           \"haploflow\":\"Haploflow\"\n",
    "          }\n",
    "\n",
    "color_dic={\"penguin\":'#EE8866',\n",
    "           \"megahit\":'#EEDD88',\n",
    "           \"metaspades\":'#77AADD',\n",
    "           \"metaviralspades\":'#FFAABB',\n",
    "           \"rnaspades\":'#99DDFF',\n",
    "           \"rnaviralspades\":'#44BB99',\n",
    "           \"iva\":'#D6E465',\n",
    "           \"vicuna\": '#DDDDDD',\n",
    "           \"savage\": '#a38995',\n",
    "           \"haploflow\": '#AAAA00'\n",
    "        }\n",
    "\n",
    "color2Label={label_dic[label]:color_dic[label] for label in label_dic}\n"
   ]
  },
  {
   "cell_type": "code",
   "execution_count": 4,
   "metadata": {},
   "outputs": [],
   "source": [
    "plt.rcParams[\"font.size\"] = 6\n",
    "DPI=300"
   ]
  },
  {
   "cell_type": "code",
   "execution_count": 5,
   "metadata": {},
   "outputs": [],
   "source": [
    "resultsDir=\"../results/rhinovirus-3-mixture/\"\n",
    "outDir=\"../figures2/\"\n",
    "\n",
    "if not os.path.exists(outDir):\n",
    "    os.mkdir(outDir)"
   ]
  },
  {
   "cell_type": "markdown",
   "metadata": {},
   "source": [
    "# Figure 2"
   ]
  },
  {
   "cell_type": "code",
   "execution_count": 7,
   "metadata": {},
   "outputs": [
    {
     "data": {
      "image/png": "[encoded data removed]",
      "text/plain": [
       "<Figure size 334.646x267.717 with 1 Axes>"
      ]
     },
     "metadata": {},
     "output_type": "display_data"
    },
    {
     "data": {
      "image/png": "[encoded data removed]",
      "text/plain": [
       "<Figure size 334.646x267.717 with 1 Axes>"
      ]
     },
     "metadata": {},
     "output_type": "display_data"
    }
   ],
   "source": [
    "toolsToPlot=[\"penguin\", \"megahit\", \"metaspades\", \"rnaspades\", \"rnaviralspades\", \"iva\", \"vicuna\", \"savage\", \"haploflow\" ]\n",
    "figureSize=(8.5/2.54,6.8/2.54)\n",
    "\n",
    "df_combined_report = pd.read_csv(resultsDir+\"transposed_report.tsv\", sep=\"\\t\", index_col=False, na_values=\"-\");\n",
    "df_combined_report = df_combined_report.fillna(0);\n",
    "df_combined_report.replace(label_dic, inplace=True)\n",
    "sns.barplot(data=df_combined_report, x=\"Assembly\", y=\"Genome fraction (%)\", order=[label_dic[t] for t in toolsToPlot], palette=color2Label)\n",
    "\n",
    "\n",
    "plt.gca().set_xticks([])\n",
    "plt.gcf().set_size_inches(figureSize)\n",
    "plt.tight_layout()\n",
    "plt.savefig(outDir+\"Fig_2_B.png\", dpi=DPI, transparent=True)\n",
    "plt.figure()\n",
    "sns.barplot(data=df_combined_report, x=\"Assembly\", y=\"# mismatches per 100 kbp\", order=[label_dic[t] for t in toolsToPlot], palette=color2Label)\n",
    "#plt.legend()\n",
    "\n",
    "plt.gca().set_xticks([])\n",
    "plt.gcf().set_size_inches(figureSize)\n",
    "plt.tight_layout()\n",
    "plt.savefig(outDir+\"Fig_2_C.png\", dpi=DPI, transparent=True)\n",
    "#plt.gca().get_legend_handles_labels()"
   ]
  }
 ],
 "metadata": {
  "kernelspec": {
   "display_name": "Python 3 (ipykernel)",
   "language": "python",
   "name": "python3"
  },
  "language_info": {
   "codemirror_mode": {
    "name": "ipython",
    "version": 3
   },
   "file_extension": ".py",
   "mimetype": "text/x-python",
   "name": "python",
   "nbconvert_exporter": "python",
   "pygments_lexer": "ipython3",
   "version": "3.10.12"
  }
 },
 "nbformat": 4,
 "nbformat_minor": 4
}
